{
 "cells": [
  {
   "cell_type": "markdown",
   "metadata": {},
   "source": [
    "# Supplementary material - Importance sampling example notebook\n",
    "\n",
    "This notebook performs importance sampling on an example subset of the Monte Carlo energy cone outputs from Clarke et al. (in prep.). To run this notebook, various input files and the filing structure provided in the GitHub repository are required. This notebook requires the following files:\n",
    "\n",
    "- input_weights.csv <-- this needs to be generated using the accompanying 'Input_weight_notebook'\n",
    "- vent_opening_probabilites.csv <-- this needs to be generated using the accompanying 'Vent_opening_probabilities_notebook'\n",
    "- output files from the energy cone modelling <-- a small subset of these are provided as an example\n",
    "- grid_x.csv, grid_y.csv <-- UTM values of columns and rows of desired output .tiff file. Provided in 'source_files' folder \n",
    "\n",
    "NB. as only a small subset of the output data is provided as an example (due to online storage constraints), the results are not representative of the probabilities indicated in the Clarke et al. (in prep.) paper, and so should not be used as a PVHA.\n",
    "\n",
    "### Features:\n",
    "1. Imports output data from the Monte Carlo energy cone model\n",
    "2. Uses dask to efficiently weight the model outputs based on the source vent opening probability, and weight factor ($W_k$) associated with each energy cone input parameter pair ($\\phi$ and $H_0$)\n",
    "3. Combines these individual processed results to produce a final 2D array showing $P(PDC|eruption)$\n",
    "4. Displays the result as a simple raster\n",
    "5. Georeferences the raster to a suitable UTM format, ready for import into GIS software\n",
    "\n",
    "### Specifically, the equations for importance sampling and calculating the probability are as follows:\n",
    "\n",
    "The probability of PDC inundation in grid cell $j$, given an eruption of vent $i$ ($P(PDC_j|vent_i)$), is calculated using the following equation:\n",
    "\n",
    "\\begin{equation}\n",
    "    P(PDC_j|vent_i) = \\frac{1}{S} \\times \\sum\\limits_{k=1}^N (W_k \\times s_k)\n",
    "\\end{equation}\n",
    "\n",
    "where $S$ is the total number of simulations from vent $i$ (in this case, 10,000), $k$ is the identity of each simulation, and $s$ is a binary 1 or 0 within each grid cell noting inundation versus no inundation. Effectively, this counts the proportion of weighted simulations in which a PDC indundated cell $j$ from vent $i$. The final step is to also consider the probability of the eruption coming from each vent; this gives the probability of inundation in grid cell $j$ given an eruption ($P(PDC_j)$), by the following equation:    \n",
    "\n",
    "\\begin{equation}\n",
    "    P(PDC_j) = \\sum\\limits_{i=1}^N P(PDC_j|vent_i) \\times P(vent_i)\n",
    "\\end{equation}\n",
    "\n",
    "where $P(vent_i)$ is the probability of vent $i$ being the source of the next eruption. This equation is applied to every grid cell, producing a map of $P(PDC|eruption)$.\n",
    "\n",
    "### Notebook Author:\n",
    "Ben Clarke <br /> \n",
    "https://github.com/GeoBen93 <br /> \n",
    "https://www.researchgate.net/profile/Ben_Clarke6 <br /> \n",
    "https://twitter.com/PyroclasticBen\n",
    "\n",
    "### How this is done in practice:\n",
    "\n",
    "![title](source_files/importance_sampling_overview.png)"
   ]
  },
  {
   "cell_type": "code",
   "execution_count": 1,
   "metadata": {},
   "outputs": [],
   "source": [
    "import numpy as np # for array operations\n",
    "import h5py # for importing .mat HDF5 files\n",
    "import matplotlib.pyplot as plt # plotting\n",
    "from scipy.misc import imsave, imshow # viewing as image\n",
    "import pandas as pd # for importing weight data\n",
    "import dask.array as da\n",
    "import dask.dataframe as dd\n",
    "import dask"
   ]
  },
  {
   "cell_type": "markdown",
   "metadata": {},
   "source": [
    "## Step 1 - Conduct Importance sampling"
   ]
  },
  {
   "cell_type": "markdown",
   "metadata": {},
   "source": [
    "This function takes each energy cone output file, consisting of results from a sinlge PDC parameter pair ($\\phi$ and $H_0$) at every vent in a 3D array, and performs importance sampling. Each 3D array is in the form: (x location : y location : source vent number), stored as a compressed .hdf5 file (with a .mat alias).\n",
    "\n",
    "The function employs 'dask' to speed up processing times, which essentially breaks the array into chunks, does the necessary calculations for each chunk in parallel, and joins the chunks back together.\n",
    "\n",
    "The function requires:\n",
    "1. inputs <-- the index of the energy cone output result to process, in this case, an integer from 1 to 10,000\n",
    "2. vw     <-- a pandas dataframe of vent opening probabilities, the file: 'vent_opening_probability.csv' in 'notebook_output_files'. Generated by the 'vent_opening_probability_notebook'\n",
    "3. iw     <-- a pandas dataframe of input weight factors ($W_k$), the file: 'input_weights.csv' in 'notebook_output_files'. Generated by the 'Input_weight_notebook'\n",
    "\n",
    "What the function does:\n",
    "1. Imports the result array from the energy cone model\n",
    "2. Uses the einsum function to multiply each 2D slice (shape (x location : y location) ) of the 3D array, by the corresponding vent opening probability\n",
    "3. Uses the einsum function to sum the 3D along the vent axis, creating a 2D array of shape (x location : y location)\n",
    "4. Multiplies this 2D array by the input weight ($W_k$) associated with the paricular pair of $\\phi$ and $H_0$\n",
    "5. Saves the processed data as a compressed 2D array as a .hdf5 file. Found in the 'notebook_output_files/processed1_outputs' folder"
   ]
  },
  {
   "cell_type": "code",
   "execution_count": 7,
   "metadata": {},
   "outputs": [],
   "source": [
    "def array_processing_stage1(inputs, vw, iw):\n",
    "    ##### inputs = number of input to process(ie. 1-10,000)\n",
    "    ##### vw = vent weighting in the form of pandas dataframe of vent weights for each input\n",
    "    ##### iw = input weighting in the form of pandas dataframe of input weights for each input \n",
    "    ##### weightcode = number to distinguish this particular weighting procedure, must change each time different weights or methods are applied, must be a corresponding output folder\n",
    "    \n",
    "    ######----------IMPORT DATA--------------##########\n",
    "\n",
    "    input_idx = inputs-1 # index of the input is 1 less than the input number as python starts counting from 0\n",
    "    \n",
    "    filename = 'source_files/example_results/invasion_input' + str(inputs) + '.mat'\n",
    "     \n",
    "    # import that file as a dask array in 1200 chunks (this appears to be fastest chunk size)\n",
    "    f = h5py.File(filename)\n",
    "    data = da.from_array(f[\"results_array\"], chunks=(1200, 1305, 1305))\n",
    "    \n",
    "    \n",
    "    ######----------PROCESSING--------#############\n",
    "    \n",
    "    # use the einsum function to multiply the vw with the vents and the output is the sum of vent weighted elements\n",
    "    with dask.config.set(scheduler='threads'):\n",
    "        collapsed = da.einsum('ijk, i -> jk', data, vw['Prob'][:1200]).compute()\n",
    "    \n",
    "    #apply the input weighting... because this is the same for every element of a single array, we can perform this after collapsing the array, saving processing time\n",
    "    input_weight = iw['input_weight'][input_idx] # find weighting for this array according to input index\n",
    "    collapsed = collapsed * input_weight # multiply the elements by this weight\n",
    "        \n",
    "    collapsed = collapsed.T # transpose the lat:long so they are the correct way around\n",
    "    \n",
    "    ######----------EXPORT-------------############\n",
    "    \n",
    "    #save this in a compressed HDF5 file format (about 50-100kb for 2d array shape (1305:1305))\n",
    "    savefilename = 'notebook_output_files/processed1_outputs/input_' +str(inputs)+ '_p.h5'\n",
    "    \n",
    "    with h5py.File(savefilename, 'w') as h5f:\n",
    "        h5f.create_dataset('dataset1', data=collapsed, compression='gzip', compression_opts=9)\n",
    "    \n",
    "    ######---------PROGRESS CHECK-------############\n",
    "    \n",
    "    #Create some outputs to check progress\n",
    "    print('..........................')\n",
    "    print('Done Input' ,inputs)"
   ]
  },
  {
   "cell_type": "markdown",
   "metadata": {},
   "source": [
    "The following script runs the 'array_processing_stage1' function for the desired range of energy cone output data, saved in the 'notebook_output_files/example_results' folder. We have provided an example dataset of 20 outputs (1001 to 1019), as a test case. Each output array takes on the order of 20 seconds to process. The results are saved in the folder named 'processed1_outputs'. \n",
    "\n",
    "*NB. These 20 example files are not uniformly distributed in terms of $\\phi$ and $H_c$ input parameters.*\n",
    "\n",
    "To run this function, define a start_index and end_index, where each is an integer between 1001 and 1019."
   ]
  },
  {
   "cell_type": "code",
   "execution_count": 8,
   "metadata": {
    "scrolled": true
   },
   "outputs": [
    {
     "name": "stdout",
     "output_type": "stream",
     "text": [
      "..........................\n",
      "Done Input 1001\n",
      "..........................\n",
      "Done Input 1002\n",
      "..........................\n",
      "Done Input 1003\n",
      "..........................\n",
      "Done Input 1004\n",
      "..........................\n",
      "Done Input 1005\n",
      "..........................\n",
      "Done Input 1006\n",
      "..........................\n",
      "Done Input 1007\n",
      "..........................\n",
      "Done Input 1008\n",
      "..........................\n",
      "Done Input 1009\n",
      "..........................\n",
      "Done Input 1010\n",
      "..........................\n",
      "Done Input 1011\n",
      "..........................\n",
      "Done Input 1012\n",
      "..........................\n",
      "Done Input 1013\n",
      "..........................\n",
      "Done Input 1014\n",
      "..........................\n",
      "Done Input 1015\n",
      "..........................\n",
      "Done Input 1016\n",
      "..........................\n",
      "Done Input 1017\n",
      "..........................\n",
      "Done Input 1018\n",
      "..........................\n",
      "Done Input 1019\n"
     ]
    }
   ],
   "source": [
    "#define start and end file indexes\n",
    "start_index = 1001\n",
    "end_index = 1019\n",
    "\n",
    "#load in the input weights as a dataframe\n",
    "input_filename =  'notebook_output_files/input_weights.csv' # define input weight file\n",
    "iw = dd.read_csv(input_filename).compute() # load input weights into a pandas dataframe\n",
    "\n",
    "#load in the vent opening probabilities as a dataframe\n",
    "vw = dd.read_csv('notebook_output_files/vent_opening_probabilities.csv').compute()\n",
    "\n",
    "for inputs in range(start_index, (end_index+1)):\n",
    "    array_processing_stage1(inputs, vw, iw)"
   ]
  },
  {
   "cell_type": "markdown",
   "metadata": {},
   "source": [
    "## Step 2 - Combine processed arrays to produce final result"
   ]
  },
  {
   "cell_type": "markdown",
   "metadata": {},
   "source": [
    "The next function combines the arrays generated by the 'array_processing_stage1' into a single 2D array with the shape (x location: y location), and the value in each cell is P(PDC|eruption).\n",
    "\n",
    "The function requires:\n",
    "1. start_input <-- integer of the first array to be combined\n",
    "2. end_input   <-- integer of the last array to be combined\n",
    "\n",
    "What the function does:\n",
    "1. Imports the processed1_output arrays in the defined range\n",
    "2. Adds each to a new cumulative array named: 'final_result_starting_(start_input) ending (end_input).h5'\n",
    "3. Divides the final array by the number of iterations\n",
    "4. Saves the final result to a file named: 'final_result_starting_(start_input) ending (end_input).h5'  "
   ]
  },
  {
   "cell_type": "code",
   "execution_count": 12,
   "metadata": {},
   "outputs": [],
   "source": [
    "def combine_arrays(start_input, end_input):\n",
    "\n",
    "    def hdf5_to_array(filename):\n",
    "        with h5py.File(filename) as h5f:\n",
    "            f = h5py.File(filename)\n",
    "            dataset_name = list(f.keys())\n",
    "            result = np.array(f[dataset_name[0]])\n",
    "        return result\n",
    "\n",
    "    def array_to_hdf5(array):\n",
    "        cumfilename = 'final_result_starting_' + str(start_input) + '_ending_' + str(end_input) + '.h5'\n",
    "        with h5py.File(cumfilename, 'w') as h5f:\n",
    "            h5f.create_dataset('dataset1', data=array, compression='gzip', compression_opts=9)\n",
    "        return\n",
    "    \n",
    "    #initialise the cumulative array by saving the start array as the cumulative array\n",
    "    start_file = 'notebook_output_files/processed1_outputs/input_' + str(start_input) + '_p.h5' \n",
    "    start_array = hdf5_to_array(start_file) #import start array\n",
    "    \n",
    "    cumfilename = 'notebook_output_files/final_result_starting_' + str(start_input) + '_ending_' + str(end_input) + '.h5'\n",
    "    \n",
    "    # load the cumulative array\n",
    "    cumulative_array = start_array\n",
    "    \n",
    "    for file in range(start_input, end_input+1):\n",
    "\n",
    "        # find the filename of the next array to be added to the cumulative array\n",
    "        next_file = 'notebook_output_files/processed1_outputs/input_' + str(file) + '_p.h5'\n",
    "        \n",
    "        #import this as an array\n",
    "        next_array = hdf5_to_array(next_file)\n",
    "\n",
    "        #add the arrays together\n",
    "        cumulative_array = cumulative_array + next_array\n",
    "\n",
    "        print('........................')\n",
    "        print('Added Input ' + str(file))\n",
    "    \n",
    "    niterations = end_input - start_input # calcualte number of iterations the result is based on \n",
    "    \n",
    "    cumulative_array = cumulative_array / niterations\n",
    "    cumulative_array = np.flip(cumulative_array, axis = 0) # flip the y axis so north is up (don't know why this changed...)\n",
    "    array_to_hdf5(cumulative_array) #save to hdf5\n",
    "    \n",
    "    return cumulative_array"
   ]
  },
  {
   "cell_type": "markdown",
   "metadata": {},
   "source": [
    "To run this function, simply execute the next cell. It requires the start and end indexes defined earlier. To adjust which files to combine, simply enter the start and end integer into the function arguments."
   ]
  },
  {
   "cell_type": "code",
   "execution_count": 13,
   "metadata": {
    "scrolled": true
   },
   "outputs": [
    {
     "name": "stdout",
     "output_type": "stream",
     "text": [
      "........................\n",
      "Added Input 1001\n",
      "........................\n",
      "Added Input 1002\n",
      "........................\n",
      "Added Input 1003\n",
      "........................\n",
      "Added Input 1004\n",
      "........................\n",
      "Added Input 1005\n",
      "........................\n",
      "Added Input 1006\n",
      "........................\n",
      "Added Input 1007\n",
      "........................\n",
      "Added Input 1008\n",
      "........................\n",
      "Added Input 1009\n",
      "........................\n",
      "Added Input 1010\n",
      "........................\n",
      "Added Input 1011\n",
      "........................\n",
      "Added Input 1012\n",
      "........................\n",
      "Added Input 1013\n",
      "........................\n",
      "Added Input 1014\n",
      "........................\n",
      "Added Input 1015\n",
      "........................\n",
      "Added Input 1016\n",
      "........................\n",
      "Added Input 1017\n",
      "........................\n",
      "Added Input 1018\n",
      "........................\n",
      "Added Input 1019\n"
     ]
    }
   ],
   "source": [
    "result = combine_arrays(start_index,end_index)"
   ]
  },
  {
   "cell_type": "markdown",
   "metadata": {},
   "source": [
    "Now lets have a quick look at what the results look like (non-georeferenced, in relative geographical space)."
   ]
  },
  {
   "cell_type": "code",
   "execution_count": 14,
   "metadata": {
    "scrolled": true
   },
   "outputs": [
    {
     "data": {
      "image/png": "[encoded data removed]",
      "text/plain": [
       "<Figure size 432x288 with 2 Axes>"
      ]
     },
     "metadata": {
      "needs_background": "light"
     },
     "output_type": "display_data"
    }
   ],
   "source": [
    "plt.imshow(result)\n",
    "plt.title('P(PDC|eruption) overview')\n",
    "plt.xlabel('X cell indexes')\n",
    "plt.ylabel('Y cell indexes')\n",
    "plt.colorbar(label='P(PDC|eruption)')\n",
    "plt.show()"
   ]
  },
  {
   "cell_type": "markdown",
   "metadata": {},
   "source": [
    "## Step 3 - Georeference the results to be viewed in GIS software"
   ]
  },
  {
   "cell_type": "markdown",
   "metadata": {},
   "source": [
    "This step takes the array generated in step 2 and georeferences it, so that it can be used in GIS software as a standard raster file for map creation or analysis. This method requires a georeferenced grid to be made, which requires a list of the columns and rows (UTM coordinates) that describe the cells that form the results array generated in step 2. These are the 'grid_x.csv' and 'grid_y.csv' provided in the weighting_data folder.\n",
    "\n",
    "The following code is adapted from https://gis.stackexchange.com/questions/37238/writing-numpy-array-to-raster-file.\n",
    "\n",
    "What this step does:\n",
    "1. Imports the x and y UTM column and row values, and creates a grid\n",
    "2. Transforms this grid into a 'GeoTiff' file of the correct dimensions and resolution, with the specified EPSG coordinate system code \n",
    "3. Applies the values of the results grid from step 2 to this GeoTiff as a raster band\n",
    "4. Saves the GeoTiff as: 'inundation_map.tif' in the 'notebook_output_files' folder, which is ready to import into a GIS, such as QGIS or ArcGIS"
   ]
  },
  {
   "cell_type": "code",
   "execution_count": 16,
   "metadata": {},
   "outputs": [],
   "source": [
    "from osgeo import gdal\n",
    "from osgeo import gdal_array\n",
    "from osgeo import osr\n",
    "import csv\n",
    "\n",
    "yname = 'source_files/grid_y.csv'\n",
    "xname = 'source_files/grid_x.csv'\n",
    "\n",
    "def csv_to_float_list(filename):\n",
    "    with open(filename, 'r', encoding='utf8') as f:\n",
    "        reader = csv.reader(f)\n",
    "        values = list(reader)\n",
    "\n",
    "    values = values[0]\n",
    "    values[0] = values[0][1:]\n",
    "    for i in range(0,len(values)):\n",
    "        values[i] = float(values[i])\n",
    "    \n",
    "    return values\n",
    "\n",
    "lat = np.flip(np.array(csv_to_float_list(yname)))\n",
    "lon = np.array(csv_to_float_list(xname))\n",
    "lonG, latG = np.meshgrid(lon,lat)\n",
    "array = result\n",
    "\n",
    "xmin,ymin,xmax,ymax = [lon.min(),lat.min(),lon.max(),lat.max()]\n",
    "nrows,ncols = np.shape(result)\n",
    "xres = (xmax-xmin)/float(ncols)\n",
    "yres = (ymax-ymin)/float(nrows)\n",
    "geotransform=(xmin,xres,0,ymax,0, -yres)   \n",
    "# That's (top left x, w-e pixel resolution, rotation (0 if North is up), \n",
    "#         top left y, rotation (0 if North is up), n-s pixel resolution)\n",
    "\n",
    "name = 'notebook_output_files/inundation_map.tif'\n",
    "\n",
    "output_raster = gdal.GetDriverByName('GTiff').Create(name,ncols, nrows, 1 ,gdal.GDT_Float32)  # Open the file\n",
    "output_raster.SetGeoTransform(geotransform)  # Specify its coordinates\n",
    "srs = osr.SpatialReference()                 # Establish its coordinate encoding\n",
    "srs.ImportFromEPSG(32637)                    # This one specifies coordinate system\n",
    "\n",
    "output_raster.SetProjection( srs.ExportToWkt() )   # Exports the coordinate system to the file\n",
    "output_raster.GetRasterBand(1).WriteArray(result)   # Writes my array to the raster\n",
    "\n",
    "output_raster.FlushCache()"
   ]
  }
 ],
 "metadata": {
  "kernelspec": {
   "display_name": "Python 3",
   "language": "python",
   "name": "python3"
  },
  "language_info": {
   "codemirror_mode": {
    "name": "ipython",
    "version": 3
   },
   "file_extension": ".py",
   "mimetype": "text/x-python",
   "name": "python",
   "nbconvert_exporter": "python",
   "pygments_lexer": "ipython3",
   "version": "3.7.1"
  }
 },
 "nbformat": 4,
 "nbformat_minor": 2
}
